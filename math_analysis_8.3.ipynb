{
 "cells": [
  {
   "cell_type": "code",
   "execution_count": 9,
   "metadata": {},
   "outputs": [],
   "source": [
    "from matplotlib import pylab as plt\n",
    "import numpy as np\n",
    "from scipy.optimize import fsolve, broyden1\n",
    "import math\n",
    "%matplotlib inline"
   ]
  },
  {
   "cell_type": "code",
   "execution_count": 73,
   "metadata": {},
   "outputs": [
    {
     "data": {
      "image/png": "[encoded data removed]",
      "text/plain": [
       "<Figure size 432x288 with 1 Axes>"
      ]
     },
     "metadata": {
      "needs_background": "light"
     },
     "output_type": "display_data"
    }
   ],
   "source": [
    "\n",
    "\n",
    "t=np.linspace(-7, 5, 400)\n",
    "x,y=np.meshgrid(t,t)\n",
    "\n",
    "d1=x**2-y**2+3*x*y**3-2*x**2*y**2+2*x-3*y-5\n",
    "d2=3*y**3-2*x**2+2*x**3*y-5*x**2*y**2+5\n",
    "\n",
    "plt.figure()\n",
    "plt.contour(x, y, d1, [0], linewidths=2,colors='r')\n",
    "plt.contour(x, y, d2, [0], linewidths=2,colors='b')\n",
    "plt.gcf().gca().axis('image')\n",
    "plt.gcf().gca().grid(True)\n",
    "plt.show()"
   ]
  },
  {
   "cell_type": "code",
   "execution_count": 23,
   "metadata": {},
   "outputs": [
    {
     "name": "stdout",
     "output_type": "stream",
     "text": [
      "1.273302064528599 1.6620391224277693\n"
     ]
    }
   ],
   "source": [
    "def equations(p):\n",
    "    x, y = p\n",
    "    return (x**2-y**2+3*x*y**3-2*x**2*y**2+2*x-3*y-5, 3*y**3-2*x**2+2*x**3*y-5*x**2*y**2+5)\n",
    "\n",
    "x, y =  fsolve(equations, (10, 10))\n",
    "print (x, y)"
   ]
  },
  {
   "cell_type": "code",
   "execution_count": 29,
   "metadata": {},
   "outputs": [
    {
     "name": "stdout",
     "output_type": "stream",
     "text": [
      "1.273302064528599 1.6620391224277693 1\n"
     ]
    }
   ],
   "source": [
    "(x, y), info, ier, mesg =  fsolve(equations, (10, 10), full_output=True)\n",
    "print (x, y, ier)"
   ]
  },
  {
   "cell_type": "code",
   "execution_count": 75,
   "metadata": {},
   "outputs": [
    {
     "name": "stdout",
     "output_type": "stream",
     "text": [
      "[-3.65307996 -0.27476342]\n",
      "[ 1.37568714 -0.17475799]\n",
      "[1.27330206 1.66203912]\n",
      "[2.21775364 0.61019398]\n",
      "[2.49435654 0.70831752]\n"
     ]
    }
   ],
   "source": [
    "from scipy.optimize import fsolve\n",
    "\n",
    "mylist = [[-5, 0], [0, 1], [1, 2], [2, 0.5], [3, 1]]\n",
    "\n",
    "def equations(p):\n",
    "    x, y = p\n",
    "    return (3*y**3-2*x**2+2*x**3*y-5*x**2*y**2+5,x**2-y**2+3*x*y**3-2*x**2*y**2+2*x-3*y-5)\n",
    "\n",
    "\n",
    "for i in mylist:\n",
    "    print(fsolve(equations, (i)))\n",
    "\n"
   ]
  },
  {
   "cell_type": "code",
   "execution_count": null,
   "metadata": {},
   "outputs": [],
   "source": []
  }
 ],
 "metadata": {
  "kernelspec": {
   "display_name": "Python 3",
   "language": "python",
   "name": "python3"
  },
  "language_info": {
   "codemirror_mode": {
    "name": "ipython",
    "version": 3
   },
   "file_extension": ".py",
   "mimetype": "text/x-python",
   "name": "python",
   "nbconvert_exporter": "python",
   "pygments_lexer": "ipython3",
   "version": "3.8.2"
  }
 },
 "nbformat": 4,
 "nbformat_minor": 4
}
